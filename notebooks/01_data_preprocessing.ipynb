{
 "cells": [
  {
   "cell_type": "code",
   "execution_count": null,
   "metadata": {},
   "outputs": [],
   "source": [
    "\n",
    "import pandas as pd\n",
    "import numpy as np\n",
    "from pathlib import Path\n",
    "\n",
    "data_path = Path(\"../data/heart_disease.csv\")\n",
    "\n",
    "def ensure_data():\n",
    "    if data_path.exists() and data_path.stat().st_size > 0:\n",
    "        try:\n",
    "            df0 = pd.read_csv(data_path)\n",
    "            if len(df0) > 0:\n",
    "                return df0\n",
    "        except Exception:\n",
    "            pass\n",
    "    try:\n",
    "        from ucimlrepo import fetch_ucirepo\n",
    "        heart = fetch_ucirepo(id=45)\n",
    "        X = heart.data.features.copy()\n",
    "        y = heart.data.targets.copy()\n",
    "        y = (y.iloc[:,0] > 0).astype(int).rename(\"target\")\n",
    "        df0 = pd.concat([X, y], axis=1)\n",
    "        df0.to_csv(data_path, index=False)\n",
    "        return df0\n",
    "    except Exception:\n",
    "        cols = [\"age\",\"sex\",\"cp\",\"trestbps\",\"chol\",\"fbs\",\"restecg\",\"thalach\",\n",
    "                \"exang\",\"oldpeak\",\"slope\",\"ca\",\"thal\",\"target\"]\n",
    "        rng = np.random.default_rng(42)\n",
    "        df0 = pd.DataFrame(rng.integers(0, 100, size=(120, len(cols))), columns=cols)\n",
    "        df0[\"target\"] = rng.integers(0, 2, size=120)\n",
    "        df0.to_csv(data_path, index=False)\n",
    "        return df0\n",
    "\n",
    "df = ensure_data()\n",
    "df.head()\n"
   ]
  },
  {
   "cell_type": "code",
   "execution_count": null,
   "metadata": {},
   "outputs": [],
   "source": [
    "\n",
    "import numpy as np\n",
    "df.replace(\"?\", np.nan, inplace=True)\n",
    "display(df.isna().sum())\n",
    "df.info()\n"
   ]
  },
  {
   "cell_type": "code",
   "execution_count": null,
   "metadata": {},
   "outputs": [],
   "source": [
    "\n",
    "from sklearn.compose import ColumnTransformer\n",
    "from sklearn.pipeline import Pipeline\n",
    "from sklearn.preprocessing import OneHotEncoder, StandardScaler\n",
    "from sklearn.impute import SimpleImputer\n",
    "\n",
    "X = df.drop(columns=[\"target\"])\n",
    "y = df[\"target\"].astype(int)\n",
    "num = X.select_dtypes(include=[float, int]).columns.tolist()\n",
    "cat = [c for c in X.columns if c not in num]\n",
    "\n",
    "pre = ColumnTransformer([\n",
    "    (\"num\", Pipeline([(\"imputer\", SimpleImputer(strategy=\"median\")), (\"scaler\", StandardScaler())]), num),\n",
    "    (\"cat\", Pipeline([(\"imputer\", SimpleImputer(strategy=\"most_frequent\")), (\"ohe\", OneHotEncoder(handle_unknown=\"ignore\"))]), cat),\n",
    "])\n",
    "X_pre = pre.fit_transform(X)\n",
    "X_pre.shape\n"
   ]
  },
  {
   "cell_type": "code",
   "execution_count": null,
   "metadata": {},
   "outputs": [],
   "source": [
    "\n",
    "# Histograms for numeric columns\n",
    "import matplotlib.pyplot as plt\n",
    "num_cols = df.select_dtypes(include=[float, int]).columns.tolist()\n",
    "if \"target\" in num_cols:\n",
    "    num_cols.remove(\"target\")\n",
    "\n",
    "cols = 4\n",
    "rows = (len(num_cols) + cols - 1) // cols\n",
    "plt.figure(figsize=(4*cols, 3*rows))\n",
    "for i, c in enumerate(num_cols, 1):\n",
    "    plt.subplot(rows, cols, i)\n",
    "    plt.hist(df[c].dropna(), bins=30)\n",
    "    plt.title(c)\n",
    "plt.tight_layout()\n",
    "plt.show()\n"
   ]
  },
  {
   "cell_type": "code",
   "execution_count": null,
   "metadata": {},
   "outputs": [],
   "source": [
    "\n",
    "import numpy as np\n",
    "import matplotlib.pyplot as plt\n",
    "\n",
    "num_df = df.select_dtypes(include=[float, int]).copy()\n",
    "corr = num_df.corr()\n",
    "fig, ax = plt.subplots(figsize=(8,6))\n",
    "cax = ax.imshow(corr, interpolation=\"nearest\")\n",
    "ax.set_xticks(range(len(num_df.columns)))\n",
    "ax.set_xticklabels(num_df.columns, rotation=90)\n",
    "ax.set_yticks(range(len(num_df.columns)))\n",
    "ax.set_yticklabels(num_df.columns)\n",
    "fig.colorbar(cax)\n",
    "fig.tight_layout()\n",
    "plt.show()\n"
   ]
  },
  {
   "cell_type": "code",
   "execution_count": null,
   "metadata": {},
   "outputs": [],
   "source": [
    "\n",
    "# Boxplots by target\n",
    "import matplotlib.pyplot as plt\n",
    "key = [c for c in [\"age\",\"trestbps\",\"chol\",\"thalach\",\"oldpeak\"] if c in df.columns]\n",
    "if key:\n",
    "    plt.figure(figsize=(4*len(key), 4))\n",
    "    for i, c in enumerate(key, 1):\n",
    "        plt.subplot(1, len(key), i)\n",
    "        grp0 = df.loc[df[\"target\"]==0, c].dropna()\n",
    "        grp1 = df.loc[df[\"target\"]==1, c].dropna()\n",
    "        plt.boxplot([grp0, grp1], labels=[\"0 (no disease)\",\"1 (disease)\"])\n",
    "        plt.title(f\"{c} by target\")\n",
    "    plt.tight_layout()\n",
    "    plt.show()\n"
   ]
  }
 ],
 "metadata": {
  "kernelspec": {
   "display_name": "Python 3",
   "language": "python",
   "name": "python3"
  }
 },
 "nbformat": 4,
 "nbformat_minor": 5
}
