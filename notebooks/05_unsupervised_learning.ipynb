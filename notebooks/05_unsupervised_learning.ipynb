{
 "cells": [
  {
   "cell_type": "code",
   "execution_count": null,
   "metadata": {},
   "outputs": [],
   "source": [
    "\n",
    "import pandas as pd\n",
    "from sklearn.cluster import KMeans\n",
    "from sklearn.compose import ColumnTransformer\n",
    "from sklearn.pipeline import Pipeline\n",
    "from sklearn.preprocessing import OneHotEncoder, StandardScaler\n",
    "from sklearn.impute import SimpleImputer\n",
    "import matplotlib.pyplot as plt\n",
    "\n",
    "df = pd.read_csv(\"../data/heart_disease.csv\")\n",
    "if \"target\" not in df.columns and \"num\" in df.columns:\n",
    "    df[\"target\"] = (df[\"num\"] > 0).astype(int)\n",
    "    df.drop(columns=[\"num\"], inplace=True)\n",
    "\n",
    "X = df.drop(columns=[\"target\"])\n",
    "num = X.select_dtypes(\"number\").columns.tolist()\n",
    "cat = [c for c in X.columns if c not in num]\n",
    "\n",
    "pre = ColumnTransformer([\n",
    "    (\"num\", Pipeline([(\"imputer\", SimpleImputer(strategy=\"median\")), (\"scaler\", StandardScaler())]), num),\n",
    "    (\"cat\", Pipeline([(\"imputer\", SimpleImputer(strategy=\"most_frequent\")), (\"ohe\", OneHotEncoder(handle_unknown=\"ignore\"))]), cat)\n",
    "])\n",
    "Xpre = pre.fit_transform(X)\n",
    "\n",
    "\n",
    "km = KMeans(n_clusters=2, random_state=42, n_init=10).fit(Xpre)\n",
    "print(\"Cluster counts:\", {i: int((km.labels_==i).sum()) for i in range(2)})\n"
   ]
  },
  {
   "cell_type": "code",
   "execution_count": null,
   "metadata": {},
   "outputs": [],
   "source": [
    "\n",
    "\n",
    "try:\n",
    "    from scipy.cluster.hierarchy import dendrogram, linkage\n",
    "    import numpy as np\n",
    "    import matplotlib.pyplot as plt\n",
    "\n",
    "    sample_n = min(120, Xpre.shape[0])\n",
    "    Xs = Xpre[:sample_n].toarray() if hasattr(Xpre, \"toarray\") else Xpre[:sample_n]\n",
    "    Z = linkage(Xs, method=\"ward\")\n",
    "    plt.figure(figsize=(10, 5))\n",
    "    dendrogram(Z, truncate_mode=\"level\", p=5)\n",
    "    plt.title(\"Hierarchical Clustering — Truncated Dendrogram\")\n",
    "    plt.show()\n",
    "except Exception as e:\n",
    "    print(\"SciPy not available or dendrogram failed:\", e)\n"
   ]
  }
 ],
 "metadata": {
  "kernelspec": {
   "display_name": "Python 3",
   "language": "python",
   "name": "python3"
  }
 },
 "nbformat": 4,
 "nbformat_minor": 5
}
